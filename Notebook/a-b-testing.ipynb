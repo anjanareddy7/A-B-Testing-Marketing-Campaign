{
 "cells": [
  {
   "cell_type": "code",
   "execution_count": 1,
   "id": "c6991a6c-0e27-4f0b-b334-9b72a5054ed3",
   "metadata": {},
   "outputs": [],
   "source": [
    "import pandas as pd\n",
    "\n",
    "# Load both groups\n",
    "control = pd.read_csv(\"control_group.csv\", sep=';')\n",
    "test = pd.read_csv(\"test_group.csv\", sep=';')\n"
   ]
  },
  {
   "cell_type": "code",
   "execution_count": 2,
   "id": "42a9db48-2a33-4fc7-88f5-0996507e2cfd",
   "metadata": {},
   "outputs": [],
   "source": [
    "control['group'] = 'control'\n",
    "test['group'] = 'test'\n",
    "\n",
    "# Combine into one DataFrame\n",
    "df = pd.concat([control, test], ignore_index=True)\n"
   ]
  },
  {
   "cell_type": "code",
   "execution_count": 5,
   "id": "7936a714-5814-4ede-b6e0-742cd7fa1c5c",
   "metadata": {},
   "outputs": [],
   "source": [
    "df.rename(columns={\n",
    "    'Spend [USD]': 'Spend',\n",
    "    ' of Impressions': 'Impressions',\n",
    "    ' of Website Clicks': 'Website_Clicks',\n",
    "    ' of Purchase': 'Purchases'\n",
    "}, inplace=True)\n"
   ]
  },
  {
   "cell_type": "code",
   "execution_count": 7,
   "id": "4c219a06-0c4d-4b3f-9e5e-fc86c4ec979c",
   "metadata": {},
   "outputs": [
    {
     "name": "stdout",
     "output_type": "stream",
     "text": [
      "['Campaign Name', 'Date', 'Spend [USD]', '# of Impressions', 'Reach', '# of Website Clicks', '# of Searches', '# of View Content', '# of Add to Cart', '# of Purchase', 'group']\n"
     ]
    }
   ],
   "source": [
    "print(control.columns.tolist())\n"
   ]
  },
  {
   "cell_type": "code",
   "execution_count": 8,
   "id": "57024f85-92e8-499a-a81e-c36e57debe7a",
   "metadata": {},
   "outputs": [],
   "source": [
    "def clean_columns(df):\n",
    "    df.columns = (\n",
    "        df.columns\n",
    "        .str.strip()\n",
    "        .str.replace('#', '', regex=False)\n",
    "        .str.replace('[', '', regex=False)\n",
    "        .str.replace(']', '', regex=False)\n",
    "        .str.replace(' ', '_')\n",
    "    )\n",
    "    return df\n",
    "\n",
    "control = clean_columns(control)\n",
    "test = clean_columns(test)\n"
   ]
  },
  {
   "cell_type": "code",
   "execution_count": 9,
   "id": "825c716a-7d00-45cc-91f7-3c3184fac790",
   "metadata": {},
   "outputs": [],
   "source": [
    "control.rename(columns={'# of Purchase': 'Purchases', '# of Website Clicks': 'Website_Clicks'}, inplace=True)\n",
    "test.rename(columns={'# of Purchase': 'Purchases', '# of Website Clicks': 'Website_Clicks'}, inplace=True)\n"
   ]
  },
  {
   "cell_type": "code",
   "execution_count": 12,
   "id": "43933a67-40e8-4811-9e7b-75d804688703",
   "metadata": {},
   "outputs": [
    {
     "name": "stdout",
     "output_type": "stream",
     "text": [
      "['Campaign_Name', 'Date', 'Spend_USD', '_of_Impressions', 'Reach', '_of_Website_Clicks', '_of_Searches', '_of_View_Content', '_of_Add_to_Cart', '_of_Purchase', 'group']\n"
     ]
    }
   ],
   "source": [
    "print(df.columns.tolist())\n"
   ]
  },
  {
   "cell_type": "code",
   "execution_count": 13,
   "id": "a5525fc6-5aca-4a41-874b-c00257f96010",
   "metadata": {},
   "outputs": [],
   "source": [
    "df.rename(columns={\n",
    "    '_of_Website_Clicks': 'Website_Clicks',\n",
    "    '_of_Purchase': 'Purchases'\n",
    "}, inplace=True)\n"
   ]
  },
  {
   "cell_type": "code",
   "execution_count": 14,
   "id": "566262bb-8311-4ba4-a9a0-852ac9001bce",
   "metadata": {},
   "outputs": [],
   "source": [
    "df['conversion_rate'] = df['Purchases'] / df['Website_Clicks']\n"
   ]
  },
  {
   "cell_type": "code",
   "execution_count": 15,
   "id": "cebc13f6-6a41-494d-9243-65cf6f1083fc",
   "metadata": {},
   "outputs": [
    {
     "name": "stdout",
     "output_type": "stream",
     "text": [
      "         Website_Clicks  Purchases  conversion_rate\n",
      "group                                              \n",
      "control        154303.0    15161.0         0.098255\n",
      "test           180970.0    15637.0         0.086407\n"
     ]
    }
   ],
   "source": [
    "summary = df.groupby('group')[['Website_Clicks', 'Purchases']].sum()\n",
    "summary['conversion_rate'] = summary['Purchases'] / summary['Website_Clicks']\n",
    "print(summary)\n"
   ]
  },
  {
   "cell_type": "code",
   "execution_count": 16,
   "id": "aef97c82-545b-4d51-8bc0-f069dc99705f",
   "metadata": {},
   "outputs": [
    {
     "name": "stdout",
     "output_type": "stream",
     "text": [
      "Z-statistic: 11.8386745814439\n",
      "P-value: 2.4631475628426749e-32\n"
     ]
    }
   ],
   "source": [
    "from statsmodels.stats.proportion import proportions_ztest\n",
    "\n",
    "counts = summary['Purchases'].values\n",
    "nobs = summary['Website_Clicks'].values\n",
    "\n",
    "z_stat, p_val = proportions_ztest(count=counts, nobs=nobs)\n",
    "print(\"Z-statistic:\", z_stat)\n",
    "print(\"P-value:\", p_val)\n"
   ]
  },
  {
   "cell_type": "code",
   "execution_count": null,
   "id": "cfaad9c8-2f68-4faf-a899-2ec12d6b3435",
   "metadata": {},
   "outputs": [],
   "source": []
  }
 ],
 "metadata": {
  "kernelspec": {
   "display_name": "Python 3 (ipykernel)",
   "language": "python",
   "name": "python3"
  },
  "language_info": {
   "codemirror_mode": {
    "name": "ipython",
    "version": 3
   },
   "file_extension": ".py",
   "mimetype": "text/x-python",
   "name": "python",
   "nbconvert_exporter": "python",
   "pygments_lexer": "ipython3",
   "version": "3.12.7"
  }
 },
 "nbformat": 4,
 "nbformat_minor": 5
}
